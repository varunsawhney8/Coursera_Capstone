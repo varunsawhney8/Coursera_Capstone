{
  "nbformat": 4,
  "nbformat_minor": 0,
  "metadata": {
    "colab": {
      "name": "Untitled16.ipynb",
      "provenance": [],
      "authorship_tag": "ABX9TyOvuAiNACfpLKWKLsCYbhnj",
      "include_colab_link": true
    },
    "kernelspec": {
      "name": "python3",
      "display_name": "Python 3"
    },
    "language_info": {
      "name": "python"
    }
  },
  "cells": [
    {
      "cell_type": "markdown",
      "metadata": {
        "id": "view-in-github",
        "colab_type": "text"
      },
      "source": [
        "<a href=\"https://colab.research.google.com/github/varunsawhney8/Coursera_Capstone/blob/main/CNN%20Model.ipynb\" target=\"_parent\"><img src=\"https://colab.research.google.com/assets/colab-badge.svg\" alt=\"Open In Colab\"/></a>"
      ]
    },
    {
      "cell_type": "code",
      "metadata": {
        "id": "Pc4Ug9wFRxyu"
      },
      "source": [
        "# create model\n",
        "\n",
        "\n",
        "input_shape1=(1,28,28)\n",
        "\n",
        "model = Sequential()\n",
        "model.add(Convolution2D(64, 3, 3,strides=(1, 1),padding=(1, 1), input_shape=input_shape1, activation= 'relu' ))\n",
        "model.add(MaxPooling2D(pool_size=(2, 2),strides=(2, 2)))\n",
        "model.add(Convolution2D(128, 3, 3,strides=(1, 1),padding=(1, 1), activation= 'relu' ))\n",
        "model.add(MaxPooling2D(pool_size=(2, 2),strides=(2, 2)))\n",
        "model.add(Convolution2D(256, 3, 3,strides=(1, 1),padding=(1, 1), activation= 'relu' ))\n",
        "model.add(BatchNormalization())\n",
        "\n",
        "model.add(Convolution2D(256, 3, 3,strides=(1, 1),padding=(1, 1), activation= 'relu' ))\n",
        "model.add(MaxPooling2D(pool_size=(1, 2),strides=(1, 2)))\n",
        "model.add(Convolution2D(512, 3, 3,strides=(1, 1),padding=(1, 1), activation= 'relu' ))\n",
        "\n",
        "model.add(BatchNormalization())\n",
        "model.add(MaxPooling2D(pool_size=(2,1),strides=(2,1)))\n",
        "model.add(Convolution2D(512, 3, 3,strides=(1, 1),padding=(1, 1), activation= 'relu' ))\n",
        "\n",
        "model.add(BatchNormalization())\n",
        "\n",
        "\n",
        "model.add(Convolution2D(15, 3, 3, activation= relu ))\n",
        "model.add(MaxPooling2D(pool_size=(2, 2)))\n",
        "model.add(Dropout(0.2))\n",
        "model.add(Flatten())\n",
        "model.add(Dense(128, activation= relu ))\n",
        "model.add(Dense(50, activation= relu ))\n",
        "model.add(Dense(num_classes, activation= softmax ))"
      ],
      "execution_count": null,
      "outputs": []
    }
  ]
}